{
 "cells": [
  {
   "cell_type": "code",
   "execution_count": 9,
   "metadata": {
    "scrolled": true
   },
   "outputs": [
    {
     "data": {
      "text/plain": [
       "('./Data/Homework.txt', <http.client.HTTPMessage at 0x204b39e2bc8>)"
      ]
     },
     "execution_count": 9,
     "metadata": {},
     "output_type": "execute_result"
    }
   ],
   "source": [
    "#引入需要的模組\n",
    "from urllib.request import urlretrieve\n",
    "import os\n",
    "\n",
    "#確認Data資料夾是否存在\n",
    "if not os.path.isdir(\"Data\") and os.path.exists(\"Data\"):\n",
    "    os.mkdir(\"Data\")\n",
    "urlretrieve(\"https://www.w3.org/TR/PNG/iso_8859-1.txt\",\"Data/Homework.txt\")\n"
   ]
  },
  {
   "cell_type": "code",
   "execution_count": 3,
   "metadata": {},
   "outputs": [
    {
     "name": "stdout",
     "output_type": "stream",
     "text": [
      "Homework.txt檔案存在\n"
     ]
    }
   ],
   "source": [
    "#判斷Homework.txt是否存在\n",
    "if os.path.exists(Data/Homework.txt\"):\n",
    "    print(\"Homework.txt檔案存在\")\n",
    "else:\n",
    "    print(\"Homework.txt檔案不存在\")"
   ]
  },
  {
   "cell_type": "code",
   "execution_count": 12,
   "metadata": {},
   "outputs": [],
   "source": [
    "#覆寫Homework.txt，並讀取\n",
    "with open(\"Data/Homework.txt\",\"w\") as fd:\n",
    "    fd.write(\"Hello Word\")\n",
    "\n",
    "with open(\"Data/Homework.txt\",\"r\") as fd:\n",
    "    data = fd.read()\n",
    "\n",
    "   "
   ]
  },
  {
   "cell_type": "code",
   "execution_count": 11,
   "metadata": {},
   "outputs": [
    {
     "name": "stdout",
     "output_type": "stream",
     "text": [
      "O\n"
     ]
    }
   ],
   "source": [
    "#確認資料長度\n",
    "if len(\"Hello Word\") == len(data):\n",
    "    print(\"O\")\n",
    "else:\n",
    "    print(\"X\")"
   ]
  },
  {
   "cell_type": "code",
   "execution_count": null,
   "metadata": {},
   "outputs": [],
   "source": []
  }
 ],
 "metadata": {
  "kernelspec": {
   "display_name": "Python 3",
   "language": "python",
   "name": "python3"
  },
  "language_info": {
   "codemirror_mode": {
    "name": "ipython",
    "version": 3
   },
   "file_extension": ".py",
   "mimetype": "text/x-python",
   "name": "python",
   "nbconvert_exporter": "python",
   "pygments_lexer": "ipython3",
   "version": "3.7.6"
  }
 },
 "nbformat": 4,
 "nbformat_minor": 4
}
